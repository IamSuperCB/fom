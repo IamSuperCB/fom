{
 "cells": [
  {
   "cell_type": "markdown",
   "metadata": {},
   "source": [
    "# Template"
   ]
  },
  {
   "cell_type": "markdown",
   "metadata": {},
   "source": [
    "## Initiatlization"
   ]
  },
  {
   "cell_type": "markdown",
   "metadata": {},
   "source": [
    "### logger"
   ]
  },
  {
   "cell_type": "code",
   "execution_count": 19,
   "metadata": {},
   "outputs": [
    {
     "name": "stderr",
     "output_type": "stream",
     "text": [
      "2024-01-20 10:39:23,670 - __main__ - DEBUG - == begins ==\n",
      "2024-01-20 10:39:23,672 - __main__ - DEBUG - Debug message\n",
      "2024-01-20 10:39:23,673 - __main__ - INFO - Info message\n",
      "2024-01-20 10:39:23,675 - __main__ - WARNING - Warning message\n",
      "2024-01-20 10:39:23,675 - __main__ - ERROR - Error message\n",
      "2024-01-20 10:39:23,676 - __main__ - CRITICAL - Critical message\n",
      "2024-01-20 10:39:23,677 - __main__ - DEBUG - == begins ==\n"
     ]
    }
   ],
   "source": [
    "import logging\n",
    "\n",
    "logging.basicConfig(level=logging.DEBUG, format='%(asctime)s - %(name)s - %(levelname)s - %(message)s')\n",
    "\n",
    "logger = logging.getLogger(__name__)\n",
    "\n",
    "logger.debug('== begins ==')\n",
    "logger.debug('Debug message')\n",
    "logger.info('Info message')\n",
    "logger.warning('Warning message')\n",
    "logger.error('Error message')\n",
    "logger.critical('Critical message')\n",
    "logger.debug('== begins ==')"
   ]
  },
  {
   "cell_type": "markdown",
   "metadata": {},
   "source": [
    "### Imports\n",
    "- [os](https://docs.python.org/3/library/os.html)\n",
    "- [json](https://docs.python.org/3/library/json.html)\n",
    "- [pytz](https://pypi.org/project/pytz/)\n",
    "- [datetime](https://docs.python.org/3/library/datetime.html)\n",
    "- [configparser]()"
   ]
  },
  {
   "cell_type": "code",
   "execution_count": 20,
   "metadata": {},
   "outputs": [
    {
     "name": "stderr",
     "output_type": "stream",
     "text": [
      "2024-01-20 10:39:23,685 - __main__ - DEBUG - == begins ==\n",
      "2024-01-20 10:39:23,689 - __main__ - INFO - imports done...\n",
      "2024-01-20 10:39:23,690 - __main__ - DEBUG - == ends ==\n"
     ]
    }
   ],
   "source": [
    "logger.debug('== begins ==')\n",
    "import os as OS\n",
    "import sys\n",
    "# Assuming there is a virtual environment.  Adding Parent path to sys.path\n",
    "sys.path.append(OS.path.abspath(OS.environ['VIRTUAL_ENV']+'/..'));\n",
    "import json as JSON\n",
    "import pytz as PYTZ\n",
    "import datetime as DateTime\n",
    "import configparser as ConfigParser\n",
    "import dotenv as DotEnv\n",
    "import common as Common\n",
    "logger.info('imports done...')\n",
    "logger.debug('== ends ==')"
   ]
  },
  {
   "cell_type": "markdown",
   "metadata": {},
   "source": [
    "### Configuration"
   ]
  },
  {
   "cell_type": "code",
   "execution_count": 21,
   "metadata": {},
   "outputs": [
    {
     "name": "stderr",
     "output_type": "stream",
     "text": [
      "2024-01-20 10:39:23,701 - __main__ - DEBUG - == begins ==\n",
      "2024-01-20 10:39:23,703 - __main__ - INFO - /workspace/github/iamsupercb/fom/python/.venv\n",
      "2024-01-20 10:39:23,705 - __main__ - INFO - config: {\n",
      "  \"ipython\": {\n",
      "    \"timezone\": \"US/Eastern\"\n",
      "  }\n",
      "}\n",
      "2024-01-20 10:39:23,706 - __main__ - DEBUG - == ends ==\n"
     ]
    }
   ],
   "source": [
    "logger.debug('== begins ==')\n",
    "# DotEnv.load_dotenv()\n",
    "logger.info(OS.environ['VIRTUAL_ENV'])\n",
    "# Load configuration from file\n",
    "config = ConfigParser.ConfigParser()\n",
    "config.read(OS.path.abspath(OS.environ['VIRTUAL_ENV']+'/..')+'/config.ini')\n",
    "\n",
    "# Update configuration with environment variables\n",
    "for section in config.sections():\n",
    "    for key in config[section]:\n",
    "        if config[section][key].startswith('$'):\n",
    "            env_var = config[section][key][1:]\n",
    "            if env_var in OS.environ:\n",
    "                config[section][key] = OS.environ[env_var]\n",
    "logger.info('config: %s', JSON.dumps(dict(config._sections), indent=2))\n",
    "logger.debug('== ends ==')"
   ]
  },
  {
   "cell_type": "markdown",
   "metadata": {},
   "source": [
    "### Globals"
   ]
  },
  {
   "cell_type": "code",
   "execution_count": 22,
   "metadata": {},
   "outputs": [
    {
     "name": "stderr",
     "output_type": "stream",
     "text": [
      "2024-01-20 10:39:23,716 - __main__ - DEBUG - == begins ==\n",
      "2024-01-20 10:39:23,729 - __main__ - INFO - {\n",
      "  \"dataPath\": \"/home/carlo/data/fom/python/notebooks\",\n",
      "  \"startDateTime\": \"2024-01-20T10:39:23.718390-05:00\"\n",
      "}\n",
      "2024-01-20 10:39:23,730 - __main__ - DEBUG - == ends ==\n"
     ]
    }
   ],
   "source": [
    "logger.debug('== begins ==')\n",
    "TZ = PYTZ.timezone(config.get('ipython', 'timezone'))\n",
    "resultSet = {\"startDateTime\": DateTime.datetime.now(TZ).isoformat(), \"dataPath\" : OS.path.join(OS.environ[\"HOME\"],\"data\",\"fom\",\"python\",\"notebooks\"), \"scenarions\" : []}\n",
    "OS.makedirs(resultSet[\"dataPath\"], exist_ok=True)\n",
    "logger.info(JSON.dumps(resultSet, indent=2, sort_keys=True))\n",
    "logger.debug('== ends ==')"
   ]
  },
  {
   "cell_type": "markdown",
   "metadata": {},
   "source": [
    "## Scenarios"
   ]
  },
  {
   "cell_type": "code",
   "execution_count": 23,
   "metadata": {},
   "outputs": [
    {
     "name": "stderr",
     "output_type": "stream",
     "text": [
      "2024-01-20 10:39:23,739 - __main__ - DEBUG - == begins ==\n",
      "2024-01-20 10:39:23,742 - __main__ - INFO - cwd = /workspace/github/iamsupercb/fom/python/notebooks\n",
      "2024-01-20 10:39:23,743 - common - DEBUG - == test begins ==\n",
      "2024-01-20 10:39:23,744 - common - INFO - Here be dragons...test\n",
      "2024-01-20 10:39:23,745 - common - DEBUG - == test ends ==\n",
      "2024-01-20 10:39:23,746 - __main__ - DEBUG - == ends ==\n"
     ]
    }
   ],
   "source": [
    "logger.debug('== begins ==')\n",
    "cwd = OS.getcwd()\n",
    "logger.info('cwd = %s', cwd)\n",
    "Common.test('test')\n",
    "logger.debug('== ends ==')"
   ]
  },
  {
   "cell_type": "markdown",
   "metadata": {},
   "source": [
    "## Finalize"
   ]
  },
  {
   "cell_type": "markdown",
   "metadata": {},
   "source": [
    "### Save result set"
   ]
  },
  {
   "cell_type": "code",
   "execution_count": 24,
   "metadata": {},
   "outputs": [
    {
     "name": "stderr",
     "output_type": "stream",
     "text": [
      "2024-01-20 10:39:23,757 - __main__ - DEBUG - == begins ==\n",
      "2024-01-20 10:39:23,764 - __main__ - DEBUG - == ends ==\n"
     ]
    }
   ],
   "source": [
    "logger.debug('== begins ==')\n",
    "resultSet[\"endDateTime\"] = DateTime.datetime.now(TZ).isoformat()\n",
    "resultSetFilename = OS.path.join(resultSet[\"dataPath\"], \"resultset.\"+resultSet[\"startDateTime\"]+\".json\")\n",
    "with open(resultSetFilename, \"w\") as outfile:\n",
    "    # write the object to the file as JSON\n",
    "    JSON.dump(resultSet, outfile)\n",
    "logger.debug('== ends ==')"
   ]
  }
 ],
 "metadata": {
  "kernelspec": {
   "display_name": ".venv",
   "language": "python",
   "name": "python3"
  },
  "language_info": {
   "codemirror_mode": {
    "name": "ipython",
    "version": 3
   },
   "file_extension": ".py",
   "mimetype": "text/x-python",
   "name": "python",
   "nbconvert_exporter": "python",
   "pygments_lexer": "ipython3",
   "version": "3.10.12"
  },
  "orig_nbformat": 4
 },
 "nbformat": 4,
 "nbformat_minor": 2
}
