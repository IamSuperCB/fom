{
  "cells": [
    {
      "cell_type": "markdown",
      "metadata": {},
      "source": [
        "# Prisma Template"
      ]
    },
    {
      "cell_type": "markdown",
      "metadata": {},
      "source": [
        "## Initialization"
      ]
    },
    {
      "cell_type": "markdown",
      "metadata": {},
      "source": [
        "### Log4JS\n",
        "- [NPM](https://www.npmjs.com/package/log4js)\n",
        "- [GitHub](https://www.npmjs.com/package/log4js)"
      ]
    },
    {
      "cell_type": "code",
      "execution_count": null,
      "metadata": {},
      "outputs": [],
      "source": [
        "process.env.LOG4JS_DEFAULT_LEVEL = \"debug\";\n",
        "import * as log4js from \"log4js\";\n",
        "import {\n",
        "  getPackageRelativeFilename,\n",
        "  defaultLog4JSConfiguration,\n",
        "  getPackageRoot,\n",
        "} from \"@iamsupercb/common\";\n",
        "var logger = log4js.getLogger(getPackageRelativeFilename(\"jupyter\"));\n",
        "log4js.configure(defaultLog4JSConfiguration);\n",
        "logger.debug(\"==  begins ==\");\n",
        "logger.debug(\"debug\");\n",
        "logger.info(\"info\");\n",
        "logger.warn(\"warn\");\n",
        "logger.error(\"error\");\n",
        "logger.fatal(\"fatal\");\n",
        "logger.debug(\"==  ends ==\");"
      ]
    },
    {
      "cell_type": "markdown",
      "metadata": {},
      "source": [
        "### Environment variables"
      ]
    },
    {
      "cell_type": "code",
      "execution_count": null,
      "metadata": {},
      "outputs": [],
      "source": [
        "logger.debug('== begins ==');\n",
        "logger.info(`process.env.USER = ${process.env.USER}`);\n",
        "logger.info(`process.env.HOME = ${process.env.HOME}`);\n",
        "logger.info(`process.env.DATABASE_URL = ${process.env.DATABASE_URL}`);\n",
        "logger.debug('== ends ==');"
      ]
    },
    {
      "cell_type": "markdown",
      "metadata": {},
      "source": [
        "### Packages\n",
        "- [fs](https://nodejs.org/docs/latest/api/path.html)\n",
        "- [path](https://nodejs.org/docs/latest/api/path.html)\n",
        "- [@prisma/client](https://www.prisma.io/)"
      ]
    },
    {
      "cell_type": "code",
      "execution_count": null,
      "metadata": {
        "tags": [
          "parameters"
        ]
      },
      "outputs": [],
      "source": [
        "logger.debug('== begins ==');\n",
        "import Path from 'path';\n",
        "import FS from 'fs';\n",
        "import { IResultSet, IScenario, ScenarioStatus } from \"@iamsupercb/jupyter\";\n",
        "import prisma from \"@iamsupercb/prisma\";\n",
        "logger.debug('== ends ==');"
      ]
    },
    {
      "cell_type": "markdown",
      "metadata": {},
      "source": [
        "### Globals"
      ]
    },
    {
      "cell_type": "code",
      "execution_count": null,
      "metadata": {
        "tags": [
          "parameters"
        ]
      },
      "outputs": [],
      "source": [
        "logger.debug(\"== begins ==\");\n",
        "var resultSet: IResultSet = {\n",
        "  overwrite: true,\n",
        "  notebookName: \"template\",\n",
        "  description: \"template for fom prisma notebook\",\n",
        "  startDatetime: new Date().toISOString(),\n",
        "  dataPath: Path.join(\n",
        "    process.env.HOME,\n",
        "    \"data\",\n",
        "    \"fom\",\n",
        "    \"typescript\",\n",
        "    \"notebooks\",\n",
        "    \"prisma\"\n",
        "  ),\n",
        "  scenarios: [],\n",
        "};\n",
        "if (!FS.existsSync(resultSet.dataPath)) {\n",
        "  FS.mkdirSync(resultSet.dataPath, { recursive: true });\n",
        "}\n",
        "logger.debug(`resultSet = ${JSON.stringify(resultSet)}`);\n",
        "logger.debug(\"== ends ==\");\n"
      ]
    },
    {
      "cell_type": "markdown",
      "metadata": {},
      "source": [
        "## Scenarios"
      ]
    },
    {
      "cell_type": "markdown",
      "metadata": {},
      "source": [
        "### Sample Scenario"
      ]
    },
    {
      "cell_type": "code",
      "execution_count": null,
      "metadata": {},
      "outputs": [],
      "source": [
        "logger.debug('== begins ==');\n",
        "let result = await prisma.$queryRaw`SELECT TABLE_NAME FROM INFORMATION_SCHEMA.TABLES WHERE TABLE_TYPE = 'BASE TABLE' AND TABLE_CATALOG='FOM';`;\n",
        "resultSet.scenarios.push({\n",
        "  name: 'Sample',\n",
        "  description: 'Sample scenario',\n",
        "  startDatetime: new Date().toISOString(),\n",
        "  result: result,\n",
        "  status: ScenarioStatus.Completed,\n",
        "  endDatetime: new Date().toISOString(),\n",
        "});\n",
        "logger.debug('== ends ==');"
      ]
    },
    {
      "cell_type": "markdown",
      "metadata": {},
      "source": [
        "## Finalization"
      ]
    },
    {
      "cell_type": "markdown",
      "metadata": {},
      "source": [
        "### Summary "
      ]
    },
    {
      "cell_type": "code",
      "execution_count": null,
      "metadata": {},
      "outputs": [],
      "source": [
        "logger.debug('== begins ==');\n",
        "resultSet.endDatetime = (new Date()).toISOString();\n",
        "logger.info(`resultSet.startDatetime = ${resultSet.startDatetime}`);\n",
        "logger.info(`resultSet.scenarios.length = ${resultSet.scenarios.length}`);\n",
        "logger.info(`resultSet.endDatetime = ${resultSet.endDatetime}`);\n",
        "logger.debug('== ends ==');"
      ]
    },
    {
      "cell_type": "markdown",
      "metadata": {},
      "source": [
        "### Cleanup"
      ]
    },
    {
      "cell_type": "code",
      "execution_count": null,
      "metadata": {},
      "outputs": [],
      "source": [
        "logger.debug('== begins ==');\n",
        "logger.debug('== ends ==');"
      ]
    },
    {
      "cell_type": "markdown",
      "metadata": {},
      "source": [
        "### Save resultset"
      ]
    },
    {
      "cell_type": "code",
      "execution_count": null,
      "metadata": {},
      "outputs": [],
      "source": [
        "logger.debug('== begins ==');\n",
        "var resultSetFilename = Path.join(resultSet.dataPath, `resultSet.${resultSet.notebookName}${resultSet.overwrite?'':('.'+resultSet.endDatetime)}.json`);\n",
        "FS.writeFileSync(resultSetFilename, JSON.stringify(resultSet, null, 2),{encoding:'utf8',flag:'w'});\n",
        "logger.debug('== ends ==');"
      ]
    }
  ],
  "metadata": {
    "kernelspec": {
      "display_name": "TypeScript",
      "language": "typescript",
      "name": "tslab"
    },
    "language_info": {
      "codemirror_mode": {
        "mode": "typescript",
        "name": "javascript",
        "typescript": true
      },
      "file_extension": ".ts",
      "mimetype": "text/typescript",
      "name": "typescript",
      "version": "3.7.2"
    }
  },
  "nbformat": 4,
  "nbformat_minor": 2
}
