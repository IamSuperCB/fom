{
  "cells": [
    {
      "cell_type": "markdown",
      "metadata": {},
      "source": [
        "# dotenv"
      ]
    },
    {
      "cell_type": "markdown",
      "metadata": {},
      "source": [
        "## Initialization"
      ]
    },
    {
      "cell_type": "markdown",
      "metadata": {},
      "source": [
        "### Log4JS\n",
        "- [NPM](https://www.npmjs.com/package/log4js)\n",
        "- [GitHub](https://www.npmjs.com/package/log4js)"
      ]
    },
    {
      "cell_type": "code",
      "execution_count": null,
      "metadata": {},
      "outputs": [],
      "source": [
        "process.env.LOG4JS_DEFAULT_LEVEL = 'debug';\n",
        "var log4js = require('log4js');\n",
        "var { getPackageRelativeFilename, defaultLog4JSConfiguration,getPackageRoot } =  require('@iamsupercb/common');\n",
        "var logger = log4js.getLogger(getPackageRelativeFilename('jupyter'));\n",
        "log4js.configure(defaultLog4JSConfiguration);\n",
        "logger.debug('==  begins ==');\n",
        "logger.debug('debug');\n",
        "logger.info('info');\n",
        "logger.warn('warn');\n",
        "logger.error('error');\n",
        "logger.fatal('fatal');\n",
        "logger.debug('==  ends ==');"
      ]
    },
    {
      "cell_type": "markdown",
      "metadata": {},
      "source": [
        "### Environment variables"
      ]
    },
    {
      "cell_type": "code",
      "execution_count": null,
      "metadata": {},
      "outputs": [],
      "source": [
        "logger.debug('== begins ==');\n",
        "logger.info(`process.env.USER = ${process.env.USER}`);\n",
        "logger.info(`process.env.HOME = ${process.env.HOME}`);\n",
        "logger.debug('== ends ==');"
      ]
    },
    {
      "cell_type": "markdown",
      "metadata": {},
      "source": [
        "### Packages\n",
        "- [fs](https://nodejs.org/docs/latest/api/path.html)\n",
        "- [path](https://nodejs.org/docs/latest/api/path.html)"
      ]
    },
    {
      "cell_type": "code",
      "execution_count": null,
      "metadata": {
        "tags": [
          "parameters"
        ]
      },
      "outputs": [],
      "source": [
        "logger.debug('== begins ==');\n",
        "var PATH = require('path');\n",
        "var FS = require('fs');\n",
        "var DOTENV = require('dotenv');\n",
        "logger.debug('== ends ==');"
      ]
    },
    {
      "cell_type": "markdown",
      "metadata": {},
      "source": [
        "### Globals"
      ]
    },
    {
      "cell_type": "code",
      "execution_count": null,
      "metadata": {
        "tags": [
          "parameters"
        ]
      },
      "outputs": [],
      "source": [
        "logger.debug('== begins ==');\n",
        "var resultSet = {\n",
        "  overwrite: false,\n",
        "  notebookName: 'dotenv',\n",
        "  startDatetime: (new Date()).toISOString(),\n",
        "  dataPath: PATH.join(process.env.HOME, 'data','fos','typescript','byPackage'),\n",
        "};\n",
        "if(!FS.existsSync(resultSet.dataPath)) {\n",
        "  FS.mkdirSync(resultSet.dataPath, { recursive: true });\n",
        "}\n",
        "logger.debug(`resultSet = ${JSON.stringify(resultSet)}`);\n",
        "logger.debug('== ends ==');"
      ]
    },
    {
      "cell_type": "markdown",
      "metadata": {},
      "source": [
        "## Scenarios"
      ]
    },
    {
      "cell_type": "code",
      "execution_count": null,
      "metadata": {},
      "outputs": [],
      "source": [
        "logger.debug('== begins ==');\n",
        "resultSet.scenarios=[];\n",
        "logger.debug('== ends ==');"
      ]
    },
    {
      "cell_type": "markdown",
      "metadata": {},
      "source": [
        "### Loading .env file"
      ]
    },
    {
      "cell_type": "code",
      "execution_count": null,
      "metadata": {},
      "outputs": [],
      "source": [
        "logger.debug('== begins ==');\n",
        "var config = DOTENV.config();\n",
        "resultSet.scenarios.push({\n",
        "  name: 'Scenario 0',\n",
        "  description: 'Description 0',\n",
        "  result: DOTENV.config(),\n",
        "  resultStatus: 'success'\n",
        "});\n",
        "logger.debug('== ends ==');"
      ]
    },
    {
      "cell_type": "markdown",
      "metadata": {},
      "source": [
        "## Finalization"
      ]
    },
    {
      "cell_type": "markdown",
      "metadata": {},
      "source": [
        "### Summary "
      ]
    },
    {
      "cell_type": "code",
      "execution_count": null,
      "metadata": {},
      "outputs": [],
      "source": [
        "logger.debug('== begins ==');\n",
        "resultSet.endDatetime = (new Date()).toISOString();\n",
        "logger.info(`resultSet.scenarios.length = ${resultSet.scenarios.length}`);\n",
        "\n",
        "resultSet.endDatetime = (new Date()).toISOString();\n",
        "logger.debug('== ends ==');"
      ]
    },
    {
      "cell_type": "markdown",
      "metadata": {},
      "source": [
        "### Save resultset"
      ]
    },
    {
      "cell_type": "code",
      "execution_count": null,
      "metadata": {},
      "outputs": [],
      "source": [
        "logger.debug('== begins ==');\n",
        "var resultSetFilename = PATH.join(resultSet.dataPath, `resultSet.${resultSet.notebookName}${resultSet.overwrite?('.'+resultSet.endDatetime):''}.json`);\n",
        "FS.writeFileSync(resultSetFilename, JSON.stringify(resultSet, null, 2),{encoding:'utf8',flag:'w'});\n",
        "logger.debug('== ends ==');"
      ]
    }
  ],
  "metadata": {
    "kernelspec": {
      "display_name": "JavaScript (Node.js)",
      "language": "javascript",
      "name": "javascript"
    },
    "language_info": {
      "file_extension": ".js",
      "mimetype": "application/javascript",
      "name": "javascript",
      "version": "18.18.2"
    }
  },
  "nbformat": 4,
  "nbformat_minor": 2
}
