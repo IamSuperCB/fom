{
  "cells": [
    {
      "cell_type": "markdown",
      "metadata": {},
      "source": [
        "# Microsoft Graph Template"
      ]
    },
    {
      "cell_type": "markdown",
      "metadata": {},
      "source": [
        "## Initialization"
      ]
    },
    {
      "cell_type": "markdown",
      "metadata": {},
      "source": [
        "### Log4JS\n",
        "- [NPM](https://www.npmjs.com/package/log4js)\n",
        "- [GitHub](https://www.npmjs.com/package/log4js)"
      ]
    },
    {
      "cell_type": "code",
      "execution_count": null,
      "metadata": {},
      "outputs": [],
      "source": [
        "process.env.LOG4JS_DEFAULT_LEVEL = 'debug';\n",
        "import * as log4js from \"log4js\";\n",
        "import {\n",
        "  getPackageRelativeFilename,\n",
        "  defaultLog4JSConfiguration,\n",
        "  getPackageRoot,\n",
        "} from \"@iamsupercb/common\";\n",
        "var logger = log4js.getLogger(getPackageRelativeFilename('jupyter'));\n",
        "log4js.configure(defaultLog4JSConfiguration);\n",
        "logger.debug('==  begins ==');\n",
        "logger.debug('debug');\n",
        "logger.info('info');\n",
        "logger.warn('warn');\n",
        "logger.error('error');\n",
        "logger.fatal('fatal');\n",
        "logger.debug('==  ends ==');"
      ]
    },
    {
      "cell_type": "markdown",
      "metadata": {},
      "source": [
        "### Environment variables"
      ]
    },
    {
      "cell_type": "code",
      "execution_count": null,
      "metadata": {},
      "outputs": [],
      "source": [
        "logger.debug('== begins ==');\n",
        "logger.info(`process.env.USER = ${process.env.USER}`);\n",
        "logger.info(`process.env.HOME = ${process.env.HOME}`);\n",
        "logger.info(`process.env.AAD_TENANT_ID = ${process.env.AAD_TENANT_ID}`);\n",
        "logger.info(`process.env.AAD_CLIENT_ID = ${process.env.AAD_CLIENT_ID}`);\n",
        "logger.info(`process.env.AAD_ENDPOINT_HOST = ${process.env.AAD_ENDPOINT_HOST}`);\n",
        "logger.info(\n",
        "  `process.env.MSAL_HOME_ACCOUNT_ID = ${process.env.MSAL_HOME_ACCOUNT_ID}`\n",
        ");\n",
        "logger.debug('== ends ==');"
      ]
    },
    {
      "cell_type": "markdown",
      "metadata": {},
      "source": [
        "### Packages\n",
        "- [fs](https://nodejs.org/docs/latest/api/path.html)\n",
        "- [path](https://nodejs.org/docs/latest/api/path.html)\n",
        "- [@azure/msal-node](https://github.com/AzureAD/microsoft-authentication-library-for-js)\n",
        "- [@microsoft/microsoft-graph-client](https://github.com/microsoftgraph/msgraph-sdk-javascript#readme)"
      ]
    },
    {
      "cell_type": "code",
      "execution_count": null,
      "metadata": {
        "tags": [
          "parameters"
        ]
      },
      "outputs": [],
      "source": [
        "logger.debug('== begins ==');\n",
        "import Path from \"path\";\n",
        "import FS from \"fs\";\n",
        "import * as MSAL from \"@azure/msal-node\";\n",
        "import * as fosMSAL from \"@iamsupercb/msal\";\n",
        "import { IResultSet, IScenario, ScenarioStatus } from \"@iamsupercb/jupyter\";\n",
        "import * as MSGraphClient from '@microsoft/microsoft-graph-client';\n",
        "logger.debug('== ends ==');"
      ]
    },
    {
      "cell_type": "markdown",
      "metadata": {},
      "source": [
        "### Globals"
      ]
    },
    {
      "cell_type": "code",
      "execution_count": null,
      "metadata": {
        "tags": [
          "parameters"
        ]
      },
      "outputs": [],
      "source": [
        "logger.debug(\"== begins ==\");\n",
        "var resultSet: IResultSet = {\n",
        "  overwrite: true,\n",
        "  notebookName: \"template\",\n",
        "  description: \"template for fos jupyter notebook that uses msal\",\n",
        "  startDatetime: new Date().toISOString(),\n",
        "  dataPath: Path.join(process.env.HOME, \"data\", \"fos\", \"typescript\", \"msgraph\"),\n",
        "  scenarios: [],\n",
        "};\n",
        "if (!FS.existsSync(resultSet.dataPath)) {\n",
        "  FS.mkdirSync(resultSet.dataPath, { recursive: true });\n",
        "}\n",
        "logger.debug(`resultSet = ${JSON.stringify(resultSet)}`);\n",
        "logger.debug(\"== getToken begins ==\");\n",
        "let pca = await fosMSAL.init(fosMSAL.defaultConfiguration);\n",
        "if (!pca) {\n",
        "  throw new Error(\"pca is null\");\n",
        "}\n",
        "let tokenCache = await pca.getTokenCache();\n",
        "let accountInfo = await tokenCache.getAccountByHomeId(\n",
        "  process.env.MSAL_HOME_ACCOUNT_ID\n",
        ");\n",
        "logger.info(`name: ${accountInfo.name}`);\n",
        "logger.info(`username = ${accountInfo.username}`);\n",
        "logger.info(`tenantId = ${accountInfo.tenantId}`);\n",
        "logger.info(`homeAccountId = ${accountInfo.homeAccountId}`);\n",
        "let token = await pca.acquireTokenSilent({\n",
        "  scopes: [\"https://graph.microsoft.com/User.Read\"],\n",
        "  account: accountInfo,\n",
        "});\n",
        "logger.info(\"resultSet.token acquired...\");\n",
        "logger.debug(\"== getToken ends ==\");\n",
        "resultSet.msGraphClient = MSGraphClient.Client.init({\n",
        "  authProvider: async (done) => {\n",
        "    done(null, token.accessToken);\n",
        "  },\n",
        "});\n",
        "logger.debug(\"== ends ==\");\n"
      ]
    },
    {
      "cell_type": "markdown",
      "metadata": {},
      "source": [
        "### Who am I"
      ]
    },
    {
      "cell_type": "code",
      "execution_count": null,
      "metadata": {},
      "outputs": [],
      "source": [
        "logger.debug(\"== begins ==\");\n",
        "let result = await resultSet.msGraphClient.api(\"/me\").get();\n",
        "logger.info(`result = ${JSON.stringify(result,null,2)}`);\n",
        "logger.debug(\"== ends ==\");\n"
      ]
    },
    {
      "cell_type": "code",
      "execution_count": null,
      "metadata": {},
      "outputs": [],
      "source": []
    },
    {
      "cell_type": "markdown",
      "metadata": {},
      "source": [
        "## Scenarios"
      ]
    },
    {
      "cell_type": "markdown",
      "metadata": {},
      "source": [
        "### Sample Scenario"
      ]
    },
    {
      "cell_type": "code",
      "execution_count": null,
      "metadata": {},
      "outputs": [],
      "source": [
        "logger.debug(\"== begins ==\");\n",
        "let scenario:IScenario = {\n",
        "  name: \"PhotoValue\",\n",
        "  description: \"/me/photo/$value\",\n",
        "  startDatetime: new Date().toISOString(),\n",
        "};\n",
        "scenario.result = {};\n",
        "logger.debug(JSON.stringify(scenario.result, null, 2));\n",
        "scenario.status = ScenarioStatus.Completed;\n",
        "scenario.endDatetime = new Date().toISOString();\n",
        "resultSet.scenarios.push(scenario);\n",
        "logger.debug(\"== ends ==\");\n"
      ]
    },
    {
      "cell_type": "markdown",
      "metadata": {},
      "source": [
        "## Finalization"
      ]
    },
    {
      "cell_type": "markdown",
      "metadata": {},
      "source": [
        "### Summary "
      ]
    },
    {
      "cell_type": "code",
      "execution_count": null,
      "metadata": {},
      "outputs": [],
      "source": [
        "logger.debug('== begins ==');\n",
        "resultSet.endDatetime = (new Date()).toISOString();\n",
        "logger.info(`resultSet.startDatetime = ${resultSet.startDatetime}`);\n",
        "logger.info(`resultSet.scenarios.length = ${resultSet.scenarios.length}`);\n",
        "logger.info(`resultSet.endDatetime = ${resultSet.endDatetime}`);\n",
        "resultSet.endDatetime = (new Date()).toISOString();\n",
        "logger.debug('== ends ==');"
      ]
    },
    {
      "cell_type": "markdown",
      "metadata": {},
      "source": [
        "### Cleanup"
      ]
    },
    {
      "cell_type": "code",
      "execution_count": null,
      "metadata": {},
      "outputs": [],
      "source": [
        "logger.debug('== begins ==');\n",
        "delete resultSet.msGraphClient;\n",
        "logger.debug('== ends ==');"
      ]
    },
    {
      "cell_type": "markdown",
      "metadata": {},
      "source": [
        "### Save resultset"
      ]
    },
    {
      "cell_type": "code",
      "execution_count": null,
      "metadata": {},
      "outputs": [],
      "source": [
        "logger.debug('== begins ==');\n",
        "var resultSetFilename = Path.join(resultSet.dataPath, `resultSet.${resultSet.notebookName}${resultSet.overwrite?'':('.'+resultSet.endDatetime)}.json`);\n",
        "FS.writeFileSync(resultSetFilename, JSON.stringify(resultSet, null, 2),{encoding:'utf8',flag:'w'});\n",
        "logger.debug('== ends ==');"
      ]
    }
  ],
  "metadata": {
    "kernelspec": {
      "display_name": "TypeScript",
      "language": "typescript",
      "name": "tslab"
    },
    "language_info": {
      "codemirror_mode": {
        "mode": "typescript",
        "name": "javascript",
        "typescript": true
      },
      "file_extension": ".ts",
      "mimetype": "text/typescript",
      "name": "typescript",
      "version": "3.7.2"
    }
  },
  "nbformat": 4,
  "nbformat_minor": 2
}
