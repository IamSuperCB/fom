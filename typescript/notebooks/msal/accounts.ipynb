{
  "cells": [
    {
      "cell_type": "markdown",
      "metadata": {},
      "source": [
        "# MSAL Accounts\n"
      ]
    },
    {
      "cell_type": "markdown",
      "metadata": {},
      "source": [
        "## Initialization\n"
      ]
    },
    {
      "cell_type": "markdown",
      "metadata": {},
      "source": [
        "### Log4JS\n",
        "\n",
        "- [NPM](https://www.npmjs.com/package/log4js)\n",
        "- [GitHub](https://www.npmjs.com/package/log4js)\n"
      ]
    },
    {
      "cell_type": "code",
      "execution_count": null,
      "metadata": {},
      "outputs": [],
      "source": [
        "process.env.LOG4JS_DEFAULT_LEVEL = \"debug\";\n",
        "import * as log4js from \"log4js\";\n",
        "import {\n",
        "  getPackageRelativeFilename,\n",
        "  defaultLog4JSConfiguration,\n",
        "  getPackageRoot,\n",
        "} from \"@iamsupercb/common\";\n",
        "var logger = log4js.getLogger(getPackageRelativeFilename(\"jupyter\"));\n",
        "log4js.configure(defaultLog4JSConfiguration);\n",
        "logger.debug(\"==  begins ==\");\n",
        "logger.debug(\"debug\");\n",
        "logger.info(\"info\");\n",
        "logger.warn(\"warn\");\n",
        "logger.error(\"error\");\n",
        "logger.fatal(\"fatal\");\n",
        "logger.debug(\"==  ends ==\");\n"
      ]
    },
    {
      "cell_type": "markdown",
      "metadata": {},
      "source": [
        "### Environment variables\n"
      ]
    },
    {
      "cell_type": "code",
      "execution_count": null,
      "metadata": {},
      "outputs": [],
      "source": [
        "logger.debug(\"== begins ==\");\n",
        "logger.info(`process.env.USER = ${process.env.USER}`);\n",
        "logger.info(`process.env.HOME = ${process.env.HOME}`);\n",
        "logger.info(`process.env.AAD_TENANT_ID = ${process.env.AAD_TENANT_ID}`);\n",
        "logger.info(`process.env.AAD_CLIENT_ID = ${process.env.AAD_CLIENT_ID}`);\n",
        "logger.info(`process.env.AAD_ENDPOINT_HOST = ${process.env.AAD_ENDPOINT_HOST}`);\n",
        "logger.info(\n",
        "  `process.env.MSAL_HOME_ACCOUNT_ID = ${process.env.MSAL_HOME_ACCOUNT_ID}`\n",
        ");\n",
        "logger.debug(\"== ends ==\");\n"
      ]
    },
    {
      "cell_type": "markdown",
      "metadata": {},
      "source": [
        "### Packages\n",
        "\n",
        "- [fs](https://nodejs.org/docs/latest/api/path.html)\n",
        "- [path](https://nodejs.org/docs/latest/api/path.html)\n",
        "- [@azure/msal-node](https://github.com/AzureAD/microsoft-authentication-library-for-js)\n"
      ]
    },
    {
      "cell_type": "code",
      "execution_count": null,
      "metadata": {
        "tags": [
          "parameters"
        ]
      },
      "outputs": [],
      "source": [
        "logger.debug(\"== begins ==\");\n",
        "var Path = require(\"path\");\n",
        "var FS = require(\"fs\");\n",
        "var { init } = require(\"@iamsupercb/msal\");\n",
        "import * as MSAL from \"@azure/msal-node\";\n",
        "import * as fosMSAL from \"@iamsupercb/msal\";\n",
        "import { IResultSet, IScenario, ScenarioStatus } from \"@iamsupercb/jupyter\";\n",
        "logger.debug(\"== ends ==\");\n"
      ]
    },
    {
      "cell_type": "markdown",
      "metadata": {},
      "source": [
        "### Globals\n"
      ]
    },
    {
      "cell_type": "code",
      "execution_count": null,
      "metadata": {
        "tags": [
          "parameters"
        ]
      },
      "outputs": [],
      "source": [
        "logger.debug(\"== begins ==\");\n",
        "var resultSet: IResultSet = {\n",
        "  overwrite: true,\n",
        "  notebookName: \"accounts\",\n",
        "  description: \"jupyter notebook that uses msal to get accounts\",\n",
        "  startDatetime: new Date().toISOString(),\n",
        "  dataPath: Path.join(\n",
        "    process.env.HOME,\n",
        "    \"data\",\n",
        "    \"fom\",\n",
        "    \"typescript\",\n",
        "    \"notebooks\",\n",
        "    \"msal\"\n",
        "  ),\n",
        "  scenarios: [],\n",
        "};\n",
        "if (!FS.existsSync(resultSet.dataPath)) {\n",
        "  FS.mkdirSync(resultSet.dataPath, { recursive: true });\n",
        "}\n",
        "logger.debug(`resultSet = ${JSON.stringify(resultSet)}`);\n",
        "logger.debug(\"== getToken begins ==\");\n",
        "// (async () => {\n",
        "resultSet.pca = await fosMSAL.init(fosMSAL.defaultConfiguration);\n",
        "if (!resultSet.pca) {\n",
        "  throw new Error(\"resultSet.pca is null\");\n",
        "}\n",
        "let tokenCache = await resultSet.pca.getTokenCache();\n",
        "let accountInfo = await tokenCache.getAccountByHomeId(\n",
        "  process.env.MSAL_HOME_ACCOUNT_ID\n",
        ");\n",
        "logger.info(`name: ${accountInfo.name}`);\n",
        "logger.info(`username = ${accountInfo.username}`);\n",
        "logger.info(`tenantId = ${accountInfo.tenantId}`);\n",
        "logger.info(`homeAccountId = ${accountInfo.homeAccountId}`);\n",
        "logger.info(\"resultSet.token acquired...\");\n",
        "logger.debug(\"== getToken ends ==\");\n",
        "logger.debug(\"== ends ==\");\n"
      ]
    },
    {
      "cell_type": "markdown",
      "metadata": {},
      "source": [
        "## Scenarios\n"
      ]
    },
    {
      "cell_type": "markdown",
      "metadata": {},
      "source": [
        "### Account Lists\n"
      ]
    },
    {
      "cell_type": "code",
      "execution_count": null,
      "metadata": {},
      "outputs": [],
      "source": [
        "logger.debug(\"== begins ==\");\n",
        "let scenario: IScenario = {\n",
        "  name: \"Accounts\",\n",
        "  description: \"Account List\",\n",
        "  startDatetime: new Date().toISOString(),\n",
        "};\n",
        "let tokenCache = await resultSet.pca.getTokenCache();\n",
        "scenario.result = await tokenCache.getAllAccounts();\n",
        "scenario.status = ScenarioStatus.Completed;\n",
        "(scenario.endDatetime = new Date().toISOString()),\n",
        "resultSet.scenarios.push(scenario);\n",
        "logger.debug(\"== ends ==\");\n"
      ]
    },
    {
      "cell_type": "markdown",
      "metadata": {},
      "source": [
        "## Finalization\n"
      ]
    },
    {
      "cell_type": "markdown",
      "metadata": {},
      "source": [
        "### Summary\n"
      ]
    },
    {
      "cell_type": "code",
      "execution_count": null,
      "metadata": {},
      "outputs": [],
      "source": [
        "logger.debug(\"== begins ==\");\n",
        "resultSet.endDatetime = new Date().toISOString();\n",
        "logger.info(`resultSet.startDatetime = ${resultSet.startDatetime}`);\n",
        "logger.info(`resultSet.scenarios.length = ${resultSet.scenarios.length}`);\n",
        "logger.info(`resultSet.endDatetime = ${resultSet.endDatetime}`);\n",
        "logger.debug(\"== ends ==\");"
      ]
    },
    {
      "cell_type": "markdown",
      "metadata": {},
      "source": [
        "### Cleanup\n"
      ]
    },
    {
      "cell_type": "code",
      "execution_count": null,
      "metadata": {},
      "outputs": [],
      "source": [
        "logger.debug(\"== begins ==\");\n",
        "delete resultSet.pca;\n",
        "logger.debug(\"== ends ==\");\n"
      ]
    },
    {
      "cell_type": "markdown",
      "metadata": {},
      "source": [
        "### Save resultset\n"
      ]
    },
    {
      "cell_type": "code",
      "execution_count": null,
      "metadata": {},
      "outputs": [],
      "source": [
        "logger.debug(\"== begins ==\");\n",
        "var resultSetFilename = Path.join(\n",
        "  resultSet.dataPath,\n",
        "  `resultSet.${resultSet.notebookName}${\n",
        "    resultSet.overwrite ? \"\" : \".\" + resultSet.endDatetime\n",
        "  }.json`\n",
        ");\n",
        "FS.writeFileSync(resultSetFilename, JSON.stringify(resultSet, null, 2), {\n",
        "  encoding: \"utf8\",\n",
        "  flag: \"w\",\n",
        "});\n",
        "logger.debug(\"== ends ==\");\n"
      ]
    }
  ],
  "metadata": {
    "kernelspec": {
      "display_name": "TypeScript",
      "language": "typescript",
      "name": "tslab"
    },
    "language_info": {
      "codemirror_mode": {
        "mode": "typescript",
        "name": "javascript",
        "typescript": true
      },
      "file_extension": ".ts",
      "mimetype": "text/typescript",
      "name": "typescript",
      "version": "3.7.2"
    }
  },
  "nbformat": 4,
  "nbformat_minor": 2
}
