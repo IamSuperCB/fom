{
  "cells": [
    {
      "cell_type": "markdown",
      "metadata": {},
      "source": [
        "# MSAL Accounts\n"
      ]
    },
    {
      "cell_type": "markdown",
      "metadata": {},
      "source": [
        "## Initialization\n"
      ]
    },
    {
      "cell_type": "markdown",
      "metadata": {},
      "source": [
        "### Log4JS\n",
        "\n",
        "- [NPM](https://www.npmjs.com/package/log4js)\n",
        "- [GitHub](https://www.npmjs.com/package/log4js)\n"
      ]
    },
    {
      "cell_type": "code",
      "execution_count": 1,
      "metadata": {},
      "outputs": [
        {
          "name": "stdout",
          "output_type": "stream",
          "text": [
            "\u001b[36m2023-12-28T19:19:50.074 DEBUG @iamsupercb/typescript-1.0.0/notebooks/msal/jupyter :\u001b[39m ==  begins ==\n",
            "\u001b[36m2023-12-28T19:19:50.075 DEBUG @iamsupercb/typescript-1.0.0/notebooks/msal/jupyter :\u001b[39m debug\n",
            "\u001b[32m2023-12-28T19:19:50.076 INFO @iamsupercb/typescript-1.0.0/notebooks/msal/jupyter :\u001b[39m info\n",
            "\u001b[33m2023-12-28T19:19:50.076 WARN @iamsupercb/typescript-1.0.0/notebooks/msal/jupyter :\u001b[39m warn\n",
            "\u001b[91m2023-12-28T19:19:50.076 ERROR @iamsupercb/typescript-1.0.0/notebooks/msal/jupyter :\u001b[39m error\n",
            "\u001b[35m2023-12-28T19:19:50.076 FATAL @iamsupercb/typescript-1.0.0/notebooks/msal/jupyter :\u001b[39m fatal\n",
            "\u001b[36m2023-12-28T19:19:50.077 DEBUG @iamsupercb/typescript-1.0.0/notebooks/msal/jupyter :\u001b[39m ==  ends ==\n"
          ]
        }
      ],
      "source": [
        "process.env.LOG4JS_DEFAULT_LEVEL = \"debug\";\n",
        "import * as log4js from \"log4js\";\n",
        "import {\n",
        "  getPackageRelativeFilename,\n",
        "  defaultLog4JSConfiguration,\n",
        "  getPackageRoot,\n",
        "} from \"@iamsupercb/common\";\n",
        "var logger = log4js.getLogger(getPackageRelativeFilename(\"jupyter\"));\n",
        "log4js.configure(defaultLog4JSConfiguration);\n",
        "logger.debug(\"==  begins ==\");\n",
        "logger.debug(\"debug\");\n",
        "logger.info(\"info\");\n",
        "logger.warn(\"warn\");\n",
        "logger.error(\"error\");\n",
        "logger.fatal(\"fatal\");\n",
        "logger.debug(\"==  ends ==\");\n"
      ]
    },
    {
      "cell_type": "markdown",
      "metadata": {},
      "source": [
        "### Environment variables\n"
      ]
    },
    {
      "cell_type": "code",
      "execution_count": 2,
      "metadata": {},
      "outputs": [
        {
          "name": "stdout",
          "output_type": "stream",
          "text": [
            "\u001b[36m2023-12-28T19:19:50.156 DEBUG @iamsupercb/typescript-1.0.0/notebooks/msal/jupyter :\u001b[39m == begins ==\n",
            "\u001b[32m2023-12-28T19:19:50.157 INFO @iamsupercb/typescript-1.0.0/notebooks/msal/jupyter :\u001b[39m process.env.USER = carlo\n",
            "\u001b[32m2023-12-28T19:19:50.157 INFO @iamsupercb/typescript-1.0.0/notebooks/msal/jupyter :\u001b[39m process.env.HOME = /home/carlo\n",
            "\u001b[32m2023-12-28T19:19:50.157 INFO @iamsupercb/typescript-1.0.0/notebooks/msal/jupyter :\u001b[39m process.env.AAD_TENANT_ID = fb03ccd6-4475-47ed-bccb-746d787a5e60\n",
            "\u001b[32m2023-12-28T19:19:50.158 INFO @iamsupercb/typescript-1.0.0/notebooks/msal/jupyter :\u001b[39m process.env.AAD_CLIENT_ID = 57f2cc55-4921-427d-bd7e-3c9da05265f9\n",
            "\u001b[32m2023-12-28T19:19:50.158 INFO @iamsupercb/typescript-1.0.0/notebooks/msal/jupyter :\u001b[39m process.env.AAD_ENDPOINT_HOST = https://login.microsoftonline.com\n",
            "\u001b[32m2023-12-28T19:19:50.158 INFO @iamsupercb/typescript-1.0.0/notebooks/msal/jupyter :\u001b[39m process.env.MSAL_HOME_ACCOUNT_ID = b46c92e7-801a-4382-aabf-23c20491fba0.fb03ccd6-4475-47ed-bccb-746d787a5e60\n",
            "\u001b[36m2023-12-28T19:19:50.158 DEBUG @iamsupercb/typescript-1.0.0/notebooks/msal/jupyter :\u001b[39m == ends ==\n"
          ]
        }
      ],
      "source": [
        "logger.debug(\"== begins ==\");\n",
        "logger.info(`process.env.USER = ${process.env.USER}`);\n",
        "logger.info(`process.env.HOME = ${process.env.HOME}`);\n",
        "logger.info(`process.env.AAD_TENANT_ID = ${process.env.AAD_TENANT_ID}`);\n",
        "logger.info(`process.env.AAD_CLIENT_ID = ${process.env.AAD_CLIENT_ID}`);\n",
        "logger.info(`process.env.AAD_ENDPOINT_HOST = ${process.env.AAD_ENDPOINT_HOST}`);\n",
        "logger.info(\n",
        "  `process.env.MSAL_HOME_ACCOUNT_ID = ${process.env.MSAL_HOME_ACCOUNT_ID}`\n",
        ");\n",
        "logger.debug(\"== ends ==\");\n"
      ]
    },
    {
      "cell_type": "markdown",
      "metadata": {},
      "source": [
        "### Packages\n",
        "\n",
        "- [fs](https://nodejs.org/docs/latest/api/path.html)\n",
        "- [path](https://nodejs.org/docs/latest/api/path.html)\n",
        "- [@azure/msal-node](https://github.com/AzureAD/microsoft-authentication-library-for-js)\n"
      ]
    },
    {
      "cell_type": "code",
      "execution_count": 3,
      "metadata": {
        "tags": [
          "parameters"
        ]
      },
      "outputs": [
        {
          "name": "stdout",
          "output_type": "stream",
          "text": [
            "\u001b[36m2023-12-28T19:19:50.398 DEBUG @iamsupercb/typescript-1.0.0/notebooks/msal/jupyter :\u001b[39m == begins ==\n",
            "\u001b[36m2023-12-28T19:19:50.400 DEBUG @iamsupercb/msal-0.0.1/dist/index.js :\u001b[39m == begins ==\n",
            "\u001b[36m2023-12-28T19:19:50.401 DEBUG @iamsupercb/msal-0.0.1/dist/iConfiguration.js :\u001b[39m == begins ==\n",
            "\u001b[36m2023-12-28T19:19:50.401 DEBUG @iamsupercb/msal-0.0.1/dist/iConfiguration.js :\u001b[39m == ends ==\n",
            "\u001b[36m2023-12-28T19:19:50.402 DEBUG @iamsupercb/msal-0.0.1/dist/defaultConfiguration.js :\u001b[39m == begins ==\n",
            "\u001b[36m2023-12-28T19:19:50.402 DEBUG @iamsupercb/msal-0.0.1/dist/defaultConfiguration.js :\u001b[39m == ends ==\n",
            "\u001b[36m2023-12-28T19:19:50.468 DEBUG @iamsupercb/msal-0.0.1/dist/defaultPersistance.js :\u001b[39m == begins ==\n",
            "\u001b[36m2023-12-28T19:19:50.468 DEBUG @iamsupercb/msal-0.0.1/dist/defaultPersistance.js :\u001b[39m == ends ==\n",
            "\u001b[36m2023-12-28T19:19:50.468 DEBUG @iamsupercb/msal-0.0.1/dist/index.js :\u001b[39m == ends ==\n",
            "\u001b[36m2023-12-28T19:19:50.470 DEBUG @iamsupercb/jupyter-0.0.1/dist/index.js :\u001b[39m == begins ==\n",
            "\u001b[36m2023-12-28T19:19:50.471 DEBUG @iamsupercb/jupyter-0.0.1/dist/iResultSet.js :\u001b[39m == begins ==\n",
            "\u001b[36m2023-12-28T19:19:50.471 DEBUG @iamsupercb/jupyter-0.0.1/dist/iResultSet.js :\u001b[39m == ends ==\n",
            "\u001b[36m2023-12-28T19:19:50.472 DEBUG @iamsupercb/jupyter-0.0.1/dist/iScenario.js :\u001b[39m == begins ==\n",
            "\u001b[36m2023-12-28T19:19:50.472 DEBUG @iamsupercb/jupyter-0.0.1/dist/iScenario.js :\u001b[39m == ends ==\n",
            "\u001b[36m2023-12-28T19:19:50.474 DEBUG @iamsupercb/jupyter-0.0.1/dist/ScenarioStatus.js :\u001b[39m == begins ==\n",
            "\u001b[36m2023-12-28T19:19:50.474 DEBUG @iamsupercb/jupyter-0.0.1/dist/ScenarioStatus.js :\u001b[39m == ends ==\n",
            "\u001b[36m2023-12-28T19:19:50.474 DEBUG @iamsupercb/jupyter-0.0.1/dist/index.js :\u001b[39m == ends ==\n",
            "\u001b[36m2023-12-28T19:19:50.474 DEBUG @iamsupercb/typescript-1.0.0/notebooks/msal/jupyter :\u001b[39m == ends ==\n"
          ]
        }
      ],
      "source": [
        "logger.debug(\"== begins ==\");\n",
        "var Path = require(\"path\");\n",
        "var FS = require(\"fs\");\n",
        "var { init } = require(\"@iamsupercb/msal\");\n",
        "import * as MSAL from \"@azure/msal-node\";\n",
        "import * as fosMSAL from \"@iamsupercb/msal\";\n",
        "import { IResultSet, IScenario, ScenarioStatus } from \"@iamsupercb/jupyter\";\n",
        "logger.debug(\"== ends ==\");\n"
      ]
    },
    {
      "cell_type": "markdown",
      "metadata": {},
      "source": [
        "### Globals\n"
      ]
    },
    {
      "cell_type": "code",
      "execution_count": 4,
      "metadata": {
        "tags": [
          "parameters"
        ]
      },
      "outputs": [
        {
          "name": "stdout",
          "output_type": "stream",
          "text": [
            "\u001b[36m2023-12-28T19:19:50.591 DEBUG @iamsupercb/typescript-1.0.0/notebooks/msal/jupyter :\u001b[39m == begins ==\n",
            "\u001b[36m2023-12-28T19:19:50.596 DEBUG @iamsupercb/typescript-1.0.0/notebooks/msal/jupyter :\u001b[39m resultSet = {\"overwrite\":true,\"notebookName\":\"accounts\",\"description\":\"jupyter notebook that uses msal to get accounts\",\"startDatetime\":\"2023-12-29T00:19:50.591Z\",\"dataPath\":\"/home/carlo/data/fom/typescript/msal\",\"scenarios\":[]}\n",
            "\u001b[36m2023-12-28T19:19:50.596 DEBUG @iamsupercb/typescript-1.0.0/notebooks/msal/jupyter :\u001b[39m == getToken begins ==\n",
            "\u001b[36m2023-12-28T19:19:50.596 DEBUG @iamsupercb/msal-0.0.1/dist/index.js :\u001b[39m configuration: {\n",
            "  \"tenantId\": \"fb03ccd6-4475-47ed-bccb-746d787a5e60\",\n",
            "  \"clientId\": \"57f2cc55-4921-427d-bd7e-3c9da05265f9\",\n",
            "  \"endpointHost\": \"https://login.microsoftonline.com\",\n",
            "  \"homeAccountId\": \"b46c92e7-801a-4382-aabf-23c20491fba0.fb03ccd6-4475-47ed-bccb-746d787a5e60\"\n",
            "}\n",
            "\u001b[36m2023-12-28T19:19:50.598 DEBUG @iamsupercb/msal-0.0.1/dist/index.js :\u001b[39m MSAL: 2 [Fri, 29 Dec 2023 00:19:50 GMT] : [] : @azure/msal-node@2.6.0 : Info - getTokenCache called false\n",
            "\u001b[36m2023-12-28T19:19:50.598 DEBUG @iamsupercb/msal-0.0.1/dist/index.js :\u001b[39m == beforeCacheAccess begins ==\n",
            "\u001b[36m2023-12-28T19:19:50.614 DEBUG @iamsupercb/msal-0.0.1/dist/index.js :\u001b[39m == beforeCacheAccess ends ==\n",
            "\u001b[36m2023-12-28T19:19:50.616 DEBUG @iamsupercb/msal-0.0.1/dist/index.js :\u001b[39m MSAL: 2 [Fri, 29 Dec 2023 00:19:50 GMT] : [] : @azure/msal-common@14.5.0 : Info - CacheManager:getIdToken - Returning ID token false\n",
            "\u001b[36m2023-12-28T19:19:50.617 DEBUG @iamsupercb/msal-0.0.1/dist/index.js :\u001b[39m MSAL: 2 [Fri, 29 Dec 2023 00:19:50 GMT] : [] : @azure/msal-common@14.5.0 : Info - CacheManager:getIdToken - Returning ID token false\n",
            "\u001b[36m2023-12-28T19:19:50.618 DEBUG @iamsupercb/msal-0.0.1/dist/index.js :\u001b[39m == afterCacheAccess begins ==\n",
            "\u001b[36m2023-12-28T19:19:50.631 DEBUG @iamsupercb/msal-0.0.1/dist/index.js :\u001b[39m == afterCacheAccess ends ==\n",
            "\u001b[32m2023-12-28T19:19:50.631 INFO @iamsupercb/typescript-1.0.0/notebooks/msal/jupyter :\u001b[39m name: Carlos A. Betancourt\n",
            "\u001b[32m2023-12-28T19:19:50.632 INFO @iamsupercb/typescript-1.0.0/notebooks/msal/jupyter :\u001b[39m username = carlos@iamsupercb.net\n",
            "\u001b[32m2023-12-28T19:19:50.632 INFO @iamsupercb/typescript-1.0.0/notebooks/msal/jupyter :\u001b[39m tenantId = fb03ccd6-4475-47ed-bccb-746d787a5e60\n",
            "\u001b[32m2023-12-28T19:19:50.632 INFO @iamsupercb/typescript-1.0.0/notebooks/msal/jupyter :\u001b[39m homeAccountId = b46c92e7-801a-4382-aabf-23c20491fba0.fb03ccd6-4475-47ed-bccb-746d787a5e60\n",
            "\u001b[32m2023-12-28T19:19:50.632 INFO @iamsupercb/typescript-1.0.0/notebooks/msal/jupyter :\u001b[39m resultSet.token acquired...\n",
            "\u001b[36m2023-12-28T19:19:50.633 DEBUG @iamsupercb/typescript-1.0.0/notebooks/msal/jupyter :\u001b[39m == getToken ends ==\n",
            "\u001b[36m2023-12-28T19:19:50.633 DEBUG @iamsupercb/typescript-1.0.0/notebooks/msal/jupyter :\u001b[39m == ends ==\n"
          ]
        }
      ],
      "source": [
        "logger.debug(\"== begins ==\");\n",
        "var resultSet: IResultSet = {\n",
        "  overwrite: true,\n",
        "  notebookName: \"accounts\",\n",
        "  description: \"jupyter notebook that uses msal to get accounts\",\n",
        "  startDatetime: new Date().toISOString(),\n",
        "  dataPath: Path.join(process.env.HOME, \"data\", \"fom\", \"typescript\", \"msal\"),\n",
        "  scenarios: [],\n",
        "};\n",
        "if (!FS.existsSync(resultSet.dataPath)) {\n",
        "  FS.mkdirSync(resultSet.dataPath, { recursive: true });\n",
        "}\n",
        "logger.debug(`resultSet = ${JSON.stringify(resultSet)}`);\n",
        "logger.debug(\"== getToken begins ==\");\n",
        "// (async () => {\n",
        "resultSet.pca = await fosMSAL.init(fosMSAL.defaultConfiguration);\n",
        "if (!resultSet.pca) {\n",
        "  throw new Error(\"resultSet.pca is null\");\n",
        "}\n",
        "let tokenCache = await resultSet.pca.getTokenCache();\n",
        "let accountInfo = await tokenCache.getAccountByHomeId(\n",
        "  process.env.MSAL_HOME_ACCOUNT_ID\n",
        ");\n",
        "logger.info(`name: ${accountInfo.name}`);\n",
        "logger.info(`username = ${accountInfo.username}`);\n",
        "logger.info(`tenantId = ${accountInfo.tenantId}`);\n",
        "logger.info(`homeAccountId = ${accountInfo.homeAccountId}`);\n",
        "logger.info(\"resultSet.token acquired...\");\n",
        "logger.debug(\"== getToken ends ==\");\n",
        "logger.debug(\"== ends ==\");\n"
      ]
    },
    {
      "cell_type": "markdown",
      "metadata": {},
      "source": [
        "## Scenarios\n"
      ]
    },
    {
      "cell_type": "markdown",
      "metadata": {},
      "source": [
        "### Account Lists\n"
      ]
    },
    {
      "cell_type": "code",
      "execution_count": 5,
      "metadata": {},
      "outputs": [
        {
          "name": "stdout",
          "output_type": "stream",
          "text": [
            "\u001b[36m2023-12-28T19:19:50.680 DEBUG @iamsupercb/typescript-1.0.0/notebooks/msal/jupyter :\u001b[39m == begins ==\n",
            "\u001b[36m2023-12-28T19:19:50.680 DEBUG @iamsupercb/msal-0.0.1/dist/index.js :\u001b[39m MSAL: 2 [Fri, 29 Dec 2023 00:19:50 GMT] : [] : @azure/msal-node@2.6.0 : Info - getTokenCache called false\n",
            "\u001b[36m2023-12-28T19:19:50.680 DEBUG @iamsupercb/msal-0.0.1/dist/index.js :\u001b[39m == beforeCacheAccess begins ==\n",
            "\u001b[36m2023-12-28T19:19:50.692 DEBUG @iamsupercb/msal-0.0.1/dist/index.js :\u001b[39m == beforeCacheAccess ends ==\n",
            "\u001b[36m2023-12-28T19:19:50.692 DEBUG @iamsupercb/msal-0.0.1/dist/index.js :\u001b[39m MSAL: 2 [Fri, 29 Dec 2023 00:19:50 GMT] : [] : @azure/msal-common@14.5.0 : Info - CacheManager:getIdToken - Returning ID token false\n",
            "\u001b[36m2023-12-28T19:19:50.693 DEBUG @iamsupercb/msal-0.0.1/dist/index.js :\u001b[39m MSAL: 2 [Fri, 29 Dec 2023 00:19:50 GMT] : [] : @azure/msal-common@14.5.0 : Info - CacheManager:getIdToken - Returning ID token false\n",
            "\u001b[36m2023-12-28T19:19:50.693 DEBUG @iamsupercb/msal-0.0.1/dist/index.js :\u001b[39m == afterCacheAccess begins ==\n",
            "\u001b[36m2023-12-28T19:19:50.706 DEBUG @iamsupercb/msal-0.0.1/dist/index.js :\u001b[39m == afterCacheAccess ends ==\n",
            "\u001b[36m2023-12-28T19:19:50.707 DEBUG @iamsupercb/typescript-1.0.0/notebooks/msal/jupyter :\u001b[39m == ends ==\n"
          ]
        }
      ],
      "source": [
        "logger.debug(\"== begins ==\");\n",
        "let scenario: IScenario = {\n",
        "  name: \"Accounts\",\n",
        "  description: \"Account List\",\n",
        "  startDatetime: new Date().toISOString(),\n",
        "};\n",
        "let tokenCache = await resultSet.pca.getTokenCache();\n",
        "scenario.result = await tokenCache.getAllAccounts();\n",
        "scenario.status = ScenarioStatus.Completed;\n",
        "(scenario.endDatetime = new Date().toISOString()),\n",
        "resultSet.scenarios.push(scenario);\n",
        "logger.debug(\"== ends ==\");\n"
      ]
    },
    {
      "cell_type": "markdown",
      "metadata": {},
      "source": [
        "## Finalization\n"
      ]
    },
    {
      "cell_type": "markdown",
      "metadata": {},
      "source": [
        "### Summary\n"
      ]
    },
    {
      "cell_type": "code",
      "execution_count": 6,
      "metadata": {},
      "outputs": [
        {
          "name": "stdout",
          "output_type": "stream",
          "text": [
            "\u001b[36m2023-12-28T19:19:50.739 DEBUG @iamsupercb/typescript-1.0.0/notebooks/msal/jupyter :\u001b[39m == begins ==\n",
            "\u001b[32m2023-12-28T19:19:50.739 INFO @iamsupercb/typescript-1.0.0/notebooks/msal/jupyter :\u001b[39m resultSet.startDatetime = 2023-12-29T00:19:50.591Z\n",
            "\u001b[32m2023-12-28T19:19:50.740 INFO @iamsupercb/typescript-1.0.0/notebooks/msal/jupyter :\u001b[39m resultSet.scenarios.length = 1\n",
            "\u001b[32m2023-12-28T19:19:50.740 INFO @iamsupercb/typescript-1.0.0/notebooks/msal/jupyter :\u001b[39m resultSet.endDatetime = 2023-12-29T00:19:50.739Z\n",
            "\u001b[36m2023-12-28T19:19:50.740 DEBUG @iamsupercb/typescript-1.0.0/notebooks/msal/jupyter :\u001b[39m == ends ==\n"
          ]
        }
      ],
      "source": [
        "logger.debug(\"== begins ==\");\n",
        "resultSet.endDatetime = new Date().toISOString();\n",
        "logger.info(`resultSet.startDatetime = ${resultSet.startDatetime}`);\n",
        "logger.info(`resultSet.scenarios.length = ${resultSet.scenarios.length}`);\n",
        "logger.info(`resultSet.endDatetime = ${resultSet.endDatetime}`);\n",
        "logger.debug(\"== ends ==\");"
      ]
    },
    {
      "cell_type": "markdown",
      "metadata": {},
      "source": [
        "### Cleanup\n"
      ]
    },
    {
      "cell_type": "code",
      "execution_count": 7,
      "metadata": {},
      "outputs": [
        {
          "name": "stdout",
          "output_type": "stream",
          "text": [
            "\u001b[36m2023-12-28T19:19:50.763 DEBUG @iamsupercb/typescript-1.0.0/notebooks/msal/jupyter :\u001b[39m == begins ==\n",
            "\u001b[36m2023-12-28T19:19:50.764 DEBUG @iamsupercb/typescript-1.0.0/notebooks/msal/jupyter :\u001b[39m == ends ==\n"
          ]
        }
      ],
      "source": [
        "logger.debug(\"== begins ==\");\n",
        "delete resultSet.pca;\n",
        "logger.debug(\"== ends ==\");\n"
      ]
    },
    {
      "cell_type": "markdown",
      "metadata": {},
      "source": [
        "### Save resultset\n"
      ]
    },
    {
      "cell_type": "code",
      "execution_count": 8,
      "metadata": {},
      "outputs": [
        {
          "name": "stdout",
          "output_type": "stream",
          "text": [
            "\u001b[36m2023-12-28T19:19:50.808 DEBUG @iamsupercb/typescript-1.0.0/notebooks/msal/jupyter :\u001b[39m == begins ==\n",
            "\u001b[36m2023-12-28T19:19:50.818 DEBUG @iamsupercb/typescript-1.0.0/notebooks/msal/jupyter :\u001b[39m == ends ==\n"
          ]
        }
      ],
      "source": [
        "logger.debug(\"== begins ==\");\n",
        "var resultSetFilename = Path.join(\n",
        "  resultSet.dataPath,\n",
        "  `resultSet.${resultSet.notebookName}${\n",
        "    resultSet.overwrite ? \"\" : \".\" + resultSet.endDatetime\n",
        "  }.json`\n",
        ");\n",
        "FS.writeFileSync(resultSetFilename, JSON.stringify(resultSet, null, 2), {\n",
        "  encoding: \"utf8\",\n",
        "  flag: \"w\",\n",
        "});\n",
        "logger.debug(\"== ends ==\");\n"
      ]
    }
  ],
  "metadata": {
    "kernelspec": {
      "display_name": "TypeScript",
      "language": "typescript",
      "name": "tslab"
    },
    "language_info": {
      "codemirror_mode": {
        "mode": "typescript",
        "name": "javascript",
        "typescript": true
      },
      "file_extension": ".ts",
      "mimetype": "text/typescript",
      "name": "typescript",
      "version": "3.7.2"
    }
  },
  "nbformat": 4,
  "nbformat_minor": 2
}
