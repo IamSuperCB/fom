{
  "cells": [
    {
      "cell_type": "markdown",
      "metadata": {},
      "source": [
        "# Express Template"
      ]
    },
    {
      "cell_type": "markdown",
      "metadata": {},
      "source": [
        "## Initialization"
      ]
    },
    {
      "cell_type": "markdown",
      "metadata": {},
      "source": [
        "### Log4JS\n",
        "- [NPM](https://www.npmjs.com/package/log4js)\n",
        "- [GitHub](https://www.npmjs.com/package/log4js)"
      ]
    },
    {
      "cell_type": "code",
      "execution_count": null,
      "metadata": {},
      "outputs": [],
      "source": [
        "process.env.LOG4JS_DEFAULT_LEVEL = \"debug\";\n",
        "import * as log4js from \"log4js\";\n",
        "import {\n",
        "  getPackageRelativeFilename,\n",
        "  defaultLog4JSConfiguration,\n",
        "  getPackageRoot,\n",
        "} from \"@iamsupercb/common\";\n",
        "var logger = log4js.getLogger(getPackageRelativeFilename(\"jupyter\"));\n",
        "log4js.configure(defaultLog4JSConfiguration);\n",
        "logger.debug(\"==  begins ==\");\n",
        "logger.debug(\"debug\");\n",
        "logger.info(\"info\");\n",
        "logger.warn(\"warn\");\n",
        "logger.error(\"error\");\n",
        "logger.fatal(\"fatal\");\n",
        "logger.debug(\"==  ends ==\");"
      ]
    },
    {
      "cell_type": "markdown",
      "metadata": {},
      "source": [
        "### Environment variables"
      ]
    },
    {
      "cell_type": "code",
      "execution_count": null,
      "metadata": {},
      "outputs": [],
      "source": [
        "logger.debug('== begins ==');\n",
        "logger.info(`process.env.USER = ${process.env.USER}`);\n",
        "logger.info(`process.env.HOME = ${process.env.HOME}`);\n",
        "logger.info(`process.env.AAD_TENANT_ID = ${process.env.AAD_TENANT_ID}`);\n",
        "logger.info(`process.env.AAD_CLIENT_ID = ${process.env.AAD_CLIENT_ID}`);\n",
        "logger.info(`process.env.AAD_ENDPOINT_HOST = ${process.env.AAD_ENDPOINT_HOST}`);\n",
        "logger.info(\n",
        "  `process.env.MSAL_HOME_ACCOUNT_ID = ${process.env.MSAL_HOME_ACCOUNT_ID}`\n",
        ");\n",
        "logger.debug('== ends ==');"
      ]
    },
    {
      "cell_type": "markdown",
      "metadata": {},
      "source": [
        "### Packages\n",
        "- [fs](https://nodejs.org/docs/latest/api/path.html)\n",
        "- [path](https://nodejs.org/docs/latest/api/path.html)\n",
        "- [@azure/msal-node](https://github.com/AzureAD/microsoft-authentication-library-for-js)"
      ]
    },
    {
      "cell_type": "code",
      "execution_count": null,
      "metadata": {
        "tags": [
          "parameters"
        ]
      },
      "outputs": [],
      "source": [
        "logger.debug('== begins ==');\n",
        "import Path from 'path';\n",
        "import FS from 'fs';\n",
        "import * as MSAL from '@azure/msal-node';\n",
        "import * as fosMSAL from '@iamsupercb/msal';\n",
        "import * as Axios from 'axios';\n",
        "import HTTPS from \"https\";\n",
        "import { IResultSet, IScenario, ScenarioStatus } from \"@iamsupercb/jupyter\";\n",
        "logger.debug('== ends ==');"
      ]
    },
    {
      "cell_type": "markdown",
      "metadata": {},
      "source": [
        "### Globals"
      ]
    },
    {
      "cell_type": "code",
      "execution_count": null,
      "metadata": {
        "tags": [
          "parameters"
        ]
      },
      "outputs": [],
      "source": [
        "logger.debug(\"== begins ==\");\n",
        "var resultSet: IResultSet = {\n",
        "  overwrite: true,\n",
        "  notebookName: \"template\",\n",
        "  description: \"template for FOM jupyter notebook that calls express API using msal authentication\",\n",
        "  startDatetime: new Date().toISOString(),\n",
        "  dataPath: Path.join(process.env.HOME, \"data\", \"fom\", \"typescript\", \"express\"),\n",
        "  me:{},\n",
        "  scenarios: [],\n",
        "};\n",
        "if (!FS.existsSync(resultSet.dataPath)) {\n",
        "  FS.mkdirSync(resultSet.dataPath, { recursive: true });\n",
        "}\n",
        "logger.debug(`resultSet = ${JSON.stringify(resultSet)}`);\n",
        "logger.debug(\"== getToken begins ==\");\n",
        "let pca = await fosMSAL.init(fosMSAL.defaultConfiguration);\n",
        "if (!pca) {\n",
        "  throw new Error(\"pca is null\");\n",
        "}\n",
        "let tokenCache = await pca.getTokenCache();\n",
        "let accountInfo = await tokenCache.getAccountByHomeId(\n",
        "  process.env.MSAL_HOME_ACCOUNT_ID\n",
        ");\n",
        "logger.info(`name: ${accountInfo.name}`);\n",
        "logger.info(`username = ${accountInfo.username}`);\n",
        "logger.info(`tenantId = ${accountInfo.tenantId}`);\n",
        "logger.info(`homeAccountId = ${accountInfo.homeAccountId}`);\n",
        "let token = await pca.acquireTokenSilent({\n",
        "  scopes: ['https://graph.microsoft.com/.default'],\n",
        "  account: accountInfo,\n",
        "});\n",
        "logger.info(\"resultSet.token acquired...\");\n",
        "logger.debug(\"== getToken ends ==\");\n",
        "resultSet.axios = Axios.default.create({\n",
        "  baseURL: \"https://localhost:3000/api/v1\",\n",
        "  headers: {\n",
        "    Authorization: `Bearer ${token.idToken}`,\n",
        "  },\n",
        "  httpsAgent: new HTTPS.Agent({\n",
        "    rejectUnauthorized: false,\n",
        "  }),\n",
        "});\n",
        "logger.debug(\"== ends ==\");\n"
      ]
    },
    {
      "cell_type": "markdown",
      "metadata": {},
      "source": [
        "### Debug"
      ]
    },
    {
      "cell_type": "markdown",
      "metadata": {},
      "source": []
    },
    {
      "cell_type": "code",
      "execution_count": null,
      "metadata": {},
      "outputs": [],
      "source": [
        "logger.debug('== begins ==');\n",
        "let response = await resultSet.axios.get(\"/common/me\");\n",
        "resultSet.me = response.data;\n",
        "logger.info(`me = ${JSON.stringify(resultSet.me)}`);\n",
        "logger.debug('== ends ==');"
      ]
    }
  ],
  "metadata": {
    "kernelspec": {
      "display_name": "TypeScript",
      "language": "typescript",
      "name": "tslab"
    },
    "language_info": {
      "codemirror_mode": {
        "mode": "typescript",
        "name": "javascript",
        "typescript": true
      },
      "file_extension": ".ts",
      "mimetype": "text/typescript",
      "name": "typescript",
      "version": "3.7.2"
    }
  },
  "nbformat": 4,
  "nbformat_minor": 2
}
