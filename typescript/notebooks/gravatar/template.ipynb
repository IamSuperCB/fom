{
  "cells": [
    {
      "cell_type": "markdown",
      "metadata": {},
      "source": [
        "# Gravatar\n"
      ]
    },
    {
      "cell_type": "markdown",
      "metadata": {},
      "source": [
        "## Initialization\n"
      ]
    },
    {
      "cell_type": "markdown",
      "metadata": {},
      "source": [
        "### Log4JS\n",
        "\n",
        "- [NPM](https://www.npmjs.com/package/log4js)\n",
        "- [GitHub](https://www.npmjs.com/package/log4js)\n"
      ]
    },
    {
      "cell_type": "code",
      "execution_count": null,
      "metadata": {},
      "outputs": [],
      "source": [
        "process.env.LOG4JS_DEFAULT_LEVEL = \"debug\";\n",
        "import * as log4js from \"log4js\";\n",
        "import {\n",
        "  getPackageRelativeFilename,\n",
        "  defaultLog4JSConfiguration,\n",
        "  getPackageRoot,\n",
        "} from \"@iamsupercb/common\";\n",
        "var logger = log4js.getLogger(getPackageRelativeFilename(\"jupyter\"));\n",
        "log4js.configure(defaultLog4JSConfiguration);\n",
        "logger.debug(\"==  begins ==\");\n",
        "logger.debug(\"debug\");\n",
        "logger.info(\"info\");\n",
        "logger.warn(\"warn\");\n",
        "logger.error(\"error\");\n",
        "logger.fatal(\"fatal\");\n",
        "logger.debug(\"==  ends ==\");\n"
      ]
    },
    {
      "cell_type": "markdown",
      "metadata": {},
      "source": [
        "### Environment variables\n"
      ]
    },
    {
      "cell_type": "code",
      "execution_count": null,
      "metadata": {},
      "outputs": [],
      "source": [
        "logger.debug(\"== begins ==\");\n",
        "logger.info(`process.env.USER = ${process.env.USER}`);\n",
        "logger.info(`process.env.HOME = ${process.env.HOME}`);\n",
        "logger.debug(\"== ends ==\");\n"
      ]
    },
    {
      "cell_type": "markdown",
      "metadata": {},
      "source": [
        "### Packages\n",
        "\n",
        "- [fs](https://nodejs.org/docs/latest/api/path.html)\n",
        "- [path](https://nodejs.org/docs/latest/api/path.html)\n",
        "- [@azure/msal-node](https://github.com/AzureAD/microsoft-authentication-library-for-js)\n"
      ]
    },
    {
      "cell_type": "code",
      "execution_count": null,
      "metadata": {
        "tags": [
          "parameters"
        ]
      },
      "outputs": [],
      "source": [
        "logger.debug(\"== begins ==\");\n",
        "import Path from \"path\";\n",
        "import FS from \"fs\";\n",
        "import { IResultSet, IScenario, ScenarioStatus } from \"@iamsupercb/jupyter\";\n",
        "import Crypto from \"crypto\";\n",
        "logger.debug(\"== ends ==\");\n"
      ]
    },
    {
      "cell_type": "markdown",
      "metadata": {},
      "source": [
        "### Globals\n"
      ]
    },
    {
      "cell_type": "code",
      "execution_count": null,
      "metadata": {
        "tags": [
          "parameters"
        ]
      },
      "outputs": [],
      "source": [
        "logger.debug(\"== begins ==\");\n",
        "var resultSet: IResultSet = {\n",
        "  overwrite: true,\n",
        "  notebookName: \"gravatar\",\n",
        "  description: \"template for fom gravatar jupyter notebook\",\n",
        "  startDatetime: new Date().toISOString(),\n",
        "  dataPath: Path.join(process.env.HOME, \"data\", \"fom\", \"typescript\",\"gravatar\"),\n",
        "  scenarios: [],\n",
        "};\n",
        "if (!FS.existsSync(resultSet.dataPath)) {\n",
        "  FS.mkdirSync(resultSet.dataPath, { recursive: true });\n",
        "}\n",
        "resultSet.email = \"iamsupercb@outlook.com\";\n",
        "logger.debug(`resultSet = ${JSON.stringify(resultSet)}`);\n",
        "logger.debug(\"== ends ==\");\n"
      ]
    },
    {
      "cell_type": "markdown",
      "metadata": {},
      "source": [
        "## Scenarios\n"
      ]
    },
    {
      "cell_type": "markdown",
      "metadata": {},
      "source": [
        "### Sample Scenario\n"
      ]
    },
    {
      "cell_type": "code",
      "execution_count": null,
      "metadata": {},
      "outputs": [],
      "source": [
        "logger.debug(\"== begins ==\");\n",
        "let size = 128;\n",
        "resultSet.hash = Crypto.createHash(\"md5\").update(resultSet.email).digest(\"hex\");\n",
        "let result = `https://www.gravatar.com/avatar/${resultSet.hash}?s=${size}`;\n",
        "// Usage\n",
        "resultSet.scenarios.push({\n",
        "  name: \"Sixe-128\",\n",
        "  description: \"Size 128x128\",\n",
        "  startDatetime: new Date().toISOString(),\n",
        "  result: result,\n",
        "  status: ScenarioStatus.Completed,\n",
        "  endDatetime: new Date().toISOString(),\n",
        "});\n",
        "logger.debug(\"== ends ==\");\n"
      ]
    },
    {
      "cell_type": "markdown",
      "metadata": {},
      "source": [
        "## Finalization\n"
      ]
    },
    {
      "cell_type": "markdown",
      "metadata": {},
      "source": [
        "### Summary\n"
      ]
    },
    {
      "cell_type": "code",
      "execution_count": null,
      "metadata": {},
      "outputs": [],
      "source": [
        "logger.debug(\"== begins ==\");\n",
        "resultSet.endDatetime = new Date().toISOString();\n",
        "logger.info(`resultSet.startDatetime = ${resultSet.startDatetime}`);\n",
        "logger.info(`resultSet.scenarios.length = ${resultSet.scenarios.length}`);\n",
        "logger.info(`resultSet.endDatetime = ${resultSet.endDatetime}`);\n",
        "logger.debug(\"== ends ==\");\n"
      ]
    },
    {
      "cell_type": "markdown",
      "metadata": {},
      "source": [
        "### Cleanup\n"
      ]
    },
    {
      "cell_type": "code",
      "execution_count": null,
      "metadata": {},
      "outputs": [],
      "source": [
        "logger.debug(\"== begins ==\");\n",
        "logger.debug(\"== ends ==\");\n"
      ]
    },
    {
      "cell_type": "markdown",
      "metadata": {},
      "source": [
        "### Save resultset\n"
      ]
    },
    {
      "cell_type": "code",
      "execution_count": null,
      "metadata": {},
      "outputs": [],
      "source": [
        "logger.debug(\"== begins ==\");\n",
        "var resultSetFilename = Path.join(\n",
        "  resultSet.dataPath,\n",
        "  `resultSet.${resultSet.notebookName}${\n",
        "    resultSet.overwrite ? \"\" : \".\" + resultSet.endDatetime\n",
        "  }.json`\n",
        ");\n",
        "FS.writeFileSync(resultSetFilename, JSON.stringify(resultSet, null, 2), {\n",
        "  encoding: \"utf8\",\n",
        "  flag: \"w\",\n",
        "});\n",
        "logger.debug(\"== ends ==\");\n"
      ]
    }
  ],
  "metadata": {
    "kernelspec": {
      "display_name": "TypeScript",
      "language": "typescript",
      "name": "tslab"
    },
    "language_info": {
      "codemirror_mode": {
        "mode": "typescript",
        "name": "javascript",
        "typescript": true
      },
      "file_extension": ".ts",
      "mimetype": "text/typescript",
      "name": "typescript",
      "version": "3.7.2"
    }
  },
  "nbformat": 4,
  "nbformat_minor": 2
}
